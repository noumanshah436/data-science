{
 "cells": [
  {
   "cell_type": "markdown",
   "metadata": {},
   "source": [
    "# Linear Regression with NumPy Functions Explained\n",
    "\n",
    "This notebook explains key NumPy functions step by step and shows how they are used in a Linear Regression example."
   ]
  },
  {
   "cell_type": "code",
   "execution_count": 1,
   "metadata": {},
   "outputs": [],
   "source": [
    "import numpy as np\n",
    "import matplotlib.pyplot as plt\n",
    "from sklearn.linear_model import LinearRegression"
   ]
  },
  {
   "cell_type": "markdown",
   "metadata": {},
   "source": [
    "## 1. Create Example Data"
   ]
  },
  {
   "cell_type": "code",
   "execution_count": null,
   "metadata": {},
   "outputs": [],
   "source": [
    "\n",
    "\n",
    "np.random.seed(0)\n",
    "x = np.linspace(0, 10, 100)\n",
    "y = np.linspace(0, 5, 100)\n",
    "z = 2*x + 3*y + np.random.randn(100)  # linear relation with some noise"
   ]
  },
  {
   "cell_type": "code",
   "execution_count": 11,
   "id": "b4a7111c",
   "metadata": {},
   "outputs": [
    {
     "data": {
      "text/plain": [
       "array([[ 0.        ,  0.1010101 ,  0.2020202 ,  0.3030303 ,  0.4040404 ,\n",
       "         0.50505051,  0.60606061,  0.70707071,  0.80808081,  0.90909091,\n",
       "         1.01010101,  1.11111111,  1.21212121,  1.31313131,  1.41414141,\n",
       "         1.51515152,  1.61616162,  1.71717172,  1.81818182,  1.91919192,\n",
       "         2.02020202,  2.12121212,  2.22222222,  2.32323232,  2.42424242,\n",
       "         2.52525253,  2.62626263,  2.72727273,  2.82828283,  2.92929293,\n",
       "         3.03030303,  3.13131313,  3.23232323,  3.33333333,  3.43434343,\n",
       "         3.53535354,  3.63636364,  3.73737374,  3.83838384,  3.93939394,\n",
       "         4.04040404,  4.14141414,  4.24242424,  4.34343434,  4.44444444,\n",
       "         4.54545455,  4.64646465,  4.74747475,  4.84848485,  4.94949495,\n",
       "         5.05050505,  5.15151515,  5.25252525,  5.35353535,  5.45454545,\n",
       "         5.55555556,  5.65656566,  5.75757576,  5.85858586,  5.95959596,\n",
       "         6.06060606,  6.16161616,  6.26262626,  6.36363636,  6.46464646,\n",
       "         6.56565657,  6.66666667,  6.76767677,  6.86868687,  6.96969697,\n",
       "         7.07070707,  7.17171717,  7.27272727,  7.37373737,  7.47474747,\n",
       "         7.57575758,  7.67676768,  7.77777778,  7.87878788,  7.97979798,\n",
       "         8.08080808,  8.18181818,  8.28282828,  8.38383838,  8.48484848,\n",
       "         8.58585859,  8.68686869,  8.78787879,  8.88888889,  8.98989899,\n",
       "         9.09090909,  9.19191919,  9.29292929,  9.39393939,  9.49494949,\n",
       "         9.5959596 ,  9.6969697 ,  9.7979798 ,  9.8989899 , 10.        ],\n",
       "       [ 0.        ,  0.05050505,  0.1010101 ,  0.15151515,  0.2020202 ,\n",
       "         0.25252525,  0.3030303 ,  0.35353535,  0.4040404 ,  0.45454545,\n",
       "         0.50505051,  0.55555556,  0.60606061,  0.65656566,  0.70707071,\n",
       "         0.75757576,  0.80808081,  0.85858586,  0.90909091,  0.95959596,\n",
       "         1.01010101,  1.06060606,  1.11111111,  1.16161616,  1.21212121,\n",
       "         1.26262626,  1.31313131,  1.36363636,  1.41414141,  1.46464646,\n",
       "         1.51515152,  1.56565657,  1.61616162,  1.66666667,  1.71717172,\n",
       "         1.76767677,  1.81818182,  1.86868687,  1.91919192,  1.96969697,\n",
       "         2.02020202,  2.07070707,  2.12121212,  2.17171717,  2.22222222,\n",
       "         2.27272727,  2.32323232,  2.37373737,  2.42424242,  2.47474747,\n",
       "         2.52525253,  2.57575758,  2.62626263,  2.67676768,  2.72727273,\n",
       "         2.77777778,  2.82828283,  2.87878788,  2.92929293,  2.97979798,\n",
       "         3.03030303,  3.08080808,  3.13131313,  3.18181818,  3.23232323,\n",
       "         3.28282828,  3.33333333,  3.38383838,  3.43434343,  3.48484848,\n",
       "         3.53535354,  3.58585859,  3.63636364,  3.68686869,  3.73737374,\n",
       "         3.78787879,  3.83838384,  3.88888889,  3.93939394,  3.98989899,\n",
       "         4.04040404,  4.09090909,  4.14141414,  4.19191919,  4.24242424,\n",
       "         4.29292929,  4.34343434,  4.39393939,  4.44444444,  4.49494949,\n",
       "         4.54545455,  4.5959596 ,  4.64646465,  4.6969697 ,  4.74747475,\n",
       "         4.7979798 ,  4.84848485,  4.8989899 ,  4.94949495,  5.        ]])"
      ]
     },
     "execution_count": 11,
     "metadata": {},
     "output_type": "execute_result"
    }
   ],
   "source": [
    "np.array([x, y])\n"
   ]
  },
  {
   "cell_type": "markdown",
   "metadata": {},
   "source": [
    "## 2. NumPy Functions Explained\n",
    "\n",
    "### `np.array` and `reshape`"
   ]
  },
  {
   "cell_type": "code",
   "execution_count": 5,
   "metadata": {},
   "outputs": [
    {
     "name": "stdout",
     "output_type": "stream",
     "text": [
      "Shape before reshape: (2, 100)\n",
      "Shape after reshape: (100, 2)\n"
     ]
    }
   ],
   "source": [
    "arr = np.array([x, y])\n",
    "print(\"Shape before reshape:\", arr.shape)\n",
    "arr_reshaped = arr.reshape(100, 2)\n",
    "print(\"Shape after reshape:\", arr_reshaped.shape)"
   ]
  },
  {
   "cell_type": "markdown",
   "metadata": {},
   "source": [
    "### `np.linspace`\n",
    "Generates evenly spaced values."
   ]
  },
  {
   "cell_type": "code",
   "execution_count": 8,
   "metadata": {},
   "outputs": [
    {
     "name": "stdout",
     "output_type": "stream",
     "text": [
      "Linspace example: [0.   0.25 0.5  0.75 1.  ]\n"
     ]
    }
   ],
   "source": [
    "lin_example = np.linspace(0, 1, 5)\n",
    "print(\"Linspace example:\", lin_example)\n",
    "\n",
    "# np.linspace(start, stop, n) \n",
    "\n",
    "# generates evenly spaced numbers.\n",
    "# Here it creates n equally spaced values between the start and stop"
   ]
  },
  {
   "cell_type": "markdown",
   "metadata": {},
   "source": [
    "### `np.meshgrid`\n",
    "Turns 1D arrays into coordinate matrices."
   ]
  },
  {
   "cell_type": "code",
   "execution_count": 9,
   "metadata": {},
   "outputs": [
    {
     "name": "stdout",
     "output_type": "stream",
     "text": [
      "Meshgrid X:\n",
      " [[1 2 3]\n",
      " [1 2 3]]\n",
      "Meshgrid Y:\n",
      " [[4 4 4]\n",
      " [5 5 5]]\n"
     ]
    }
   ],
   "source": [
    "a = np.array([1,2,3])\n",
    "b = np.array([4,5])\n",
    "mg_x, mg_y = np.meshgrid(a, b)\n",
    "print(\"Meshgrid X:\\n\", mg_x)\n",
    "print(\"Meshgrid Y:\\n\", mg_y)"
   ]
  },
  {
   "cell_type": "markdown",
   "metadata": {},
   "source": [
    "### `np.ravel`, `np.vstack`, and transpose"
   ]
  },
  {
   "cell_type": "code",
   "execution_count": null,
   "metadata": {},
   "outputs": [],
   "source": [
    "print(\"Flattened array:\", mg_x.ravel())\n",
    "stacked = np.vstack((mg_x.ravel(), mg_y.ravel()))\n",
    "print(\"Stacked shape:\", stacked.shape)\n",
    "print(\"Transposed shape:\", stacked.T.shape)"
   ]
  },
  {
   "cell_type": "markdown",
   "metadata": {},
   "source": [
    "## 3. Fit Linear Regression"
   ]
  },
  {
   "cell_type": "code",
   "execution_count": null,
   "metadata": {},
   "outputs": [],
   "source": [
    "lr = LinearRegression()\n",
    "lr.fit(np.array([x,y]).reshape(100,2), z)"
   ]
  },
  {
   "cell_type": "markdown",
   "metadata": {},
   "source": [
    "## 4. Create Grid for Prediction"
   ]
  },
  {
   "cell_type": "code",
   "execution_count": null,
   "metadata": {},
   "outputs": [],
   "source": [
    "x_input = np.linspace(x.min(), x.max(), 10)\n",
    "y_input = np.linspace(y.min(), y.max(), 10)\n",
    "xGrid, yGrid = np.meshgrid(x_input, y_input)\n",
    "\n",
    "final = np.vstack((xGrid.ravel().reshape(1,100), yGrid.ravel().reshape(1,100))).T\n",
    "z_final = lr.predict(final).reshape(10,10)"
   ]
  },
  {
   "cell_type": "markdown",
   "metadata": {},
   "source": [
    "## 5. Plot Results"
   ]
  },
  {
   "cell_type": "code",
   "execution_count": null,
   "metadata": {},
   "outputs": [],
   "source": [
    "fig = plt.figure(figsize=(8,6))\n",
    "ax = fig.add_subplot(111, projection='3d')\n",
    "ax.plot_surface(xGrid, yGrid, z_final, cmap='viridis', alpha=0.7)\n",
    "ax.scatter(x, y, z, color='r')\n",
    "ax.set_xlabel('X')\n",
    "ax.set_ylabel('Y')\n",
    "ax.set_zlabel('Z')\n",
    "plt.show()"
   ]
  }
 ],
 "metadata": {
  "kernelspec": {
   "display_name": "3.13.1",
   "language": "python",
   "name": "python3"
  },
  "language_info": {
   "codemirror_mode": {
    "name": "ipython",
    "version": 3
   },
   "file_extension": ".py",
   "mimetype": "text/x-python",
   "name": "python",
   "nbconvert_exporter": "python",
   "pygments_lexer": "ipython3",
   "version": "3.13.1"
  }
 },
 "nbformat": 4,
 "nbformat_minor": 5
}
