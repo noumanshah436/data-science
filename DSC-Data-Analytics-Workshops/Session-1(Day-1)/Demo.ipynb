{
 "cells": [
  {
   "cell_type": "code",
   "execution_count": null,
   "metadata": {},
   "outputs": [],
   "source": [
    "%lsmagic"
   ]
  },
  {
   "cell_type": "code",
   "execution_count": 2,
   "metadata": {},
   "outputs": [
    {
     "name": "stdout",
     "output_type": "stream",
     "text": [
      " Volume in drive D has no label.\n",
      " Volume Serial Number is 2E34-BAF6\n",
      "\n",
      " Directory of D:\\Data Science course\n",
      "\n",
      "14/03/2021  03:28 pm    <DIR>          .\n",
      "14/03/2021  03:28 pm    <DIR>          ..\n",
      "14/03/2021  03:26 pm    <DIR>          .ipynb_checkpoints\n",
      "14/03/2021  03:29 pm               875 data course.txt\n",
      "14/03/2021  03:28 pm             1,127 Demo.ipynb\n",
      "08/03/2021  12:25 am    <DIR>          DSC-Data-Analytics-Workshops\n",
      "04/03/2021  11:00 pm           106,874 Screenshot (1176).png\n",
      "04/03/2021  11:21 pm           465,926 Screenshot (1177).png\n",
      "04/03/2021  11:26 pm           472,949 Screenshot (1178).png\n",
      "04/03/2021  11:34 pm            53,136 Screenshot (1179).png\n",
      "04/03/2021  11:17 pm               555 tut1.ipynb\n",
      "04/03/2021  11:17 pm                72 Untitled.ipynb\n",
      "               8 File(s)      1,101,514 bytes\n",
      "               4 Dir(s)  95,008,325,632 bytes free\n"
     ]
    }
   ],
   "source": [
    "%ls"
   ]
  },
  {
   "cell_type": "markdown",
   "metadata": {},
   "source": [
    "# Heading  "
   ]
  },
  {
   "cell_type": "markdown",
   "metadata": {},
   "source": [
    "text and shift enter"
   ]
  },
  {
   "cell_type": "code",
   "execution_count": null,
   "metadata": {},
   "outputs": [],
   "source": []
  },
  {
   "cell_type": "code",
   "execution_count": null,
   "metadata": {},
   "outputs": [],
   "source": []
  }
 ],
 "metadata": {
  "kernelspec": {
   "display_name": "Python 3",
   "language": "python",
   "name": "python3"
  },
  "language_info": {
   "codemirror_mode": {
    "name": "ipython",
    "version": 3
   },
   "file_extension": ".py",
   "mimetype": "text/x-python",
   "name": "python",
   "nbconvert_exporter": "python",
   "pygments_lexer": "ipython3",
   "version": "3.8.5"
  }
 },
 "nbformat": 4,
 "nbformat_minor": 4
}
